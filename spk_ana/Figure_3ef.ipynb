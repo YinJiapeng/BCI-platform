{
 "cells": [
  {
   "cell_type": "markdown",
   "metadata": {},
   "source": [
    "#### SVM Classification of brain regions based on the distribution of cell clusters\n",
    "This notebook is used to generate Figure 3e/f. It first plots the number of neurons that were categorized into the determined clusters for each brain area. A support vector machine (SVM) classifier with a polynomial kernel was also implemented in this notebook to classify brain areas based on the distribution of cell clusters. The performance of this classifier is evaluated through a normalized confusion matrix."
   ]
  },
  {
   "cell_type": "code",
   "execution_count": 1,
   "metadata": {},
   "outputs": [
    {
     "name": "stderr",
     "output_type": "stream",
     "text": [
      "c:\\Users\\jp\\anaconda3\\envs\\ana_312\\Lib\\site-packages\\sklearn\\utils\\_param_validation.py:11: UserWarning: A NumPy version >=1.23.5 and <2.3.0 is required for this version of SciPy (detected version 2.3.0)\n",
      "  from scipy.sparse import csr_matrix, issparse\n"
     ]
    }
   ],
   "source": [
    "import os, glob\n",
    "from sklearn import svm, datasets\n",
    "import sklearn.model_selection as model_selection\n",
    "from sklearn.metrics import accuracy_score\n",
    "from sklearn.metrics import f1_score\n",
    "from sklearn.metrics import confusion_matrix\n",
    "import pandas as pd\n",
    "import numpy as np\n",
    "import matplotlib as mpl\n",
    "import matplotlib.pyplot as plt\n",
    "import matplotlib.colors as mcolors\n",
    "import seaborn as sns\n",
    "\n",
    "%matplotlib inline\n",
    "mpl.rcParams['pdf.fonttype'] = 42\n",
    "mpl.rcParams['ps.fonttype'] = 42\n",
    "mpl.rcParams['svg.fonttype'] = 'none'"
   ]
  },
  {
   "cell_type": "code",
   "execution_count": 2,
   "metadata": {},
   "outputs": [],
   "source": [
    "bin_size = 500\n",
    "opt_norm = True\n",
    "opt_fr_thres = 5\n",
    "monkey = 'VM20_VM23'\n",
    "rnd_seed = 42\n",
    "n_clusters = 3\n",
    "nLimit = 70\n",
    "\n",
    "# Replace path with your data path:\n",
    "pn_root = r\"\\\\NJJK-NAS\\visual\\66_paper\\MANUSCRIPT\\20250610-v6-submit\\figShare_upload\\DATA\"\n",
    "\n",
    "homedir = glob.glob(os.path.join(pn_root, fr'04_result_{bin_size}ms\\b3_task_raster\\{monkey}'), recursive=True)[0]\n",
    "brain_region_list = sorted(next(os.walk(homedir))[1])"
   ]
  },
  {
   "cell_type": "code",
   "execution_count": 3,
   "metadata": {},
   "outputs": [],
   "source": [
    "# Find brain regions less than nLimit\n",
    "rm_list = []\n",
    "for reg in brain_region_list:\n",
    "    channel_list = sorted(glob.glob(os.path.join(homedir,reg,'*.csv')))\n",
    "    if len(channel_list) < nLimit:\n",
    "        rm_list.append(reg)"
   ]
  },
  {
   "cell_type": "code",
   "execution_count": 4,
   "metadata": {},
   "outputs": [],
   "source": [
    "# remove regions\n",
    "brain_region_list = list(filter(lambda a: a not in rm_list, brain_region_list))\n",
    "\n",
    "savedir = os.path.join(homedir.replace(f'04_result_{bin_size}ms', '05_plots'),f'NumOver{nLimit}')\n",
    "os.makedirs(savedir, exist_ok=True)\n",
    "\n",
    "cluster_labels = pd.read_csv(os.path.join(homedir,f'hierarchical_ClusterLabel_{monkey}_{bin_size}ms_normalized_seed{rnd_seed}_ncluster{n_clusters}_numOver{nLimit}.csv'), usecols=[\"Region\", \"Cluster\"])"
   ]
  },
  {
   "cell_type": "code",
   "execution_count": 5,
   "metadata": {},
   "outputs": [
    {
     "data": {
      "text/html": [
       "<div>\n",
       "<style scoped>\n",
       "    .dataframe tbody tr th:only-of-type {\n",
       "        vertical-align: middle;\n",
       "    }\n",
       "\n",
       "    .dataframe tbody tr th {\n",
       "        vertical-align: top;\n",
       "    }\n",
       "\n",
       "    .dataframe thead th {\n",
       "        text-align: right;\n",
       "    }\n",
       "</style>\n",
       "<table border=\"1\" class=\"dataframe\">\n",
       "  <thead>\n",
       "    <tr style=\"text-align: right;\">\n",
       "      <th>Cluster</th>\n",
       "      <th>1</th>\n",
       "      <th>2</th>\n",
       "      <th>3</th>\n",
       "    </tr>\n",
       "    <tr>\n",
       "      <th>Region</th>\n",
       "      <th></th>\n",
       "      <th></th>\n",
       "      <th></th>\n",
       "    </tr>\n",
       "  </thead>\n",
       "  <tbody>\n",
       "    <tr>\n",
       "      <th>01_V1</th>\n",
       "      <td>0.141593</td>\n",
       "      <td>0.420354</td>\n",
       "      <td>0.438053</td>\n",
       "    </tr>\n",
       "    <tr>\n",
       "      <th>02_V2</th>\n",
       "      <td>0.210526</td>\n",
       "      <td>0.210526</td>\n",
       "      <td>0.578947</td>\n",
       "    </tr>\n",
       "    <tr>\n",
       "      <th>03_V4</th>\n",
       "      <td>0.028986</td>\n",
       "      <td>0.659420</td>\n",
       "      <td>0.311594</td>\n",
       "    </tr>\n",
       "    <tr>\n",
       "      <th>05_PF</th>\n",
       "      <td>0.418367</td>\n",
       "      <td>0.234694</td>\n",
       "      <td>0.346939</td>\n",
       "    </tr>\n",
       "    <tr>\n",
       "      <th>06_PFG</th>\n",
       "      <td>0.281250</td>\n",
       "      <td>0.156250</td>\n",
       "      <td>0.562500</td>\n",
       "    </tr>\n",
       "    <tr>\n",
       "      <th>07_PE</th>\n",
       "      <td>0.139752</td>\n",
       "      <td>0.425466</td>\n",
       "      <td>0.434783</td>\n",
       "    </tr>\n",
       "    <tr>\n",
       "      <th>09_S2</th>\n",
       "      <td>0.367442</td>\n",
       "      <td>0.320930</td>\n",
       "      <td>0.311628</td>\n",
       "    </tr>\n",
       "    <tr>\n",
       "      <th>11_M1</th>\n",
       "      <td>0.207188</td>\n",
       "      <td>0.374207</td>\n",
       "      <td>0.418605</td>\n",
       "    </tr>\n",
       "    <tr>\n",
       "      <th>12_PMDc</th>\n",
       "      <td>0.142857</td>\n",
       "      <td>0.589286</td>\n",
       "      <td>0.267857</td>\n",
       "    </tr>\n",
       "    <tr>\n",
       "      <th>13_PMVc</th>\n",
       "      <td>0.536585</td>\n",
       "      <td>0.214634</td>\n",
       "      <td>0.248780</td>\n",
       "    </tr>\n",
       "    <tr>\n",
       "      <th>21_PFC</th>\n",
       "      <td>0.109375</td>\n",
       "      <td>0.656250</td>\n",
       "      <td>0.234375</td>\n",
       "    </tr>\n",
       "  </tbody>\n",
       "</table>\n",
       "</div>"
      ],
      "text/plain": [
       "Cluster         1         2         3\n",
       "Region                               \n",
       "01_V1    0.141593  0.420354  0.438053\n",
       "02_V2    0.210526  0.210526  0.578947\n",
       "03_V4    0.028986  0.659420  0.311594\n",
       "05_PF    0.418367  0.234694  0.346939\n",
       "06_PFG   0.281250  0.156250  0.562500\n",
       "07_PE    0.139752  0.425466  0.434783\n",
       "09_S2    0.367442  0.320930  0.311628\n",
       "11_M1    0.207188  0.374207  0.418605\n",
       "12_PMDc  0.142857  0.589286  0.267857\n",
       "13_PMVc  0.536585  0.214634  0.248780\n",
       "21_PFC   0.109375  0.656250  0.234375"
      ]
     },
     "execution_count": 5,
     "metadata": {},
     "output_type": "execute_result"
    }
   ],
   "source": [
    "df_count = pd.crosstab(cluster_labels['Region'],cluster_labels['Cluster'],normalize='index')\n",
    "df_count.to_csv(os.path.join(homedir,f'hierarchical_region_cluster_count_{monkey}_{bin_size}ms_normalized_seed{rnd_seed}_ncluster{n_clusters}_numOver{nLimit}.csv'))\n",
    "df_count"
   ]
  },
  {
   "cell_type": "markdown",
   "metadata": {},
   "source": [
    "Bar plot illustrating the number of neurons that were categorized into the three clusters in (c) for each brain area, with only brain areas having a total neuron count greater than nLimit(70) included."
   ]
  },
  {
   "cell_type": "code",
   "execution_count": 6,
   "metadata": {},
   "outputs": [
    {
     "data": {
      "image/png": "[encoded data removed]",
      "text/plain": [
       "<Figure size 600x300 with 1 Axes>"
      ]
     },
     "metadata": {},
     "output_type": "display_data"
    },
    {
     "data": {
      "text/plain": [
       "<Figure size 640x480 with 0 Axes>"
      ]
     },
     "metadata": {},
     "output_type": "display_data"
    }
   ],
   "source": [
    "# define color\n",
    "if n_clusters == 2:\n",
    "    hex_colors = ['#5494CE', '#F9CC52']\n",
    "elif n_clusters == 3:\n",
    "    hex_colors = ['#5494CE', '#FF8283', '#F9CC52']\n",
    "elif n_clusters == 4:\n",
    "    hex_colors = ['#5494CE', '#FF8283', '#0D898A', '#F9CC52']\n",
    "elif n_clusters == 6:\n",
    "    hex_colors = ['#f57c6e', '#f2b56f', '#84c3b7', '#71b7ed', '#b8aeeb', '#f2a7da']\n",
    "# Create a ListedColormap from the hex colors\n",
    "cmap = mcolors.ListedColormap(hex_colors)\n",
    "\n",
    "plot_labels = cluster_labels.loc[cluster_labels['Cluster'] >= 0]\n",
    "pd.crosstab(plot_labels['Region'],plot_labels['Cluster']).plot.bar(figsize=(6,3), colormap=cmap)\n",
    "plt.xticks(rotation=45)\n",
    "plt.ylabel('Unit Count', fontsize=6)\n",
    "plt.xlabel('Brain Areas', fontsize=6)\n",
    "plt.tick_params(axis='both', labelsize=5)\n",
    "plt.savefig(os.path.join(savedir, f'hierarchical_barPlot_{bin_size}ms_normalized_seed{rnd_seed}_ncluster{n_clusters}.pdf'), transparent=True, bbox_inches=\"tight\")\n",
    "plt.savefig(os.path.join(savedir, f'hierarchical_barPlot_{bin_size}ms_normalized_seed{rnd_seed}_ncluster{n_clusters}.png'))\n",
    "plt.show()\n",
    "plt.clf()"
   ]
  },
  {
   "cell_type": "markdown",
   "metadata": {},
   "source": [
    "SVM Classification Analysis"
   ]
  },
  {
   "cell_type": "code",
   "execution_count": 7,
   "metadata": {},
   "outputs": [],
   "source": [
    "# Create empty array\n",
    "X = np.empty((0, n_clusters))\n",
    "y = np.empty((0, 1))\n",
    "# Repeat the process for 1000 times\n",
    "for rnd in range(1000):\n",
    "    # Randomly select 1000 neurons from the entire population\n",
    "    df_tmp = cluster_labels.sample(n=1000)\n",
    "    # Count the number of neurons belonging to the three clusters for each region\n",
    "    ncounts = pd.crosstab(df_tmp['Region'],df_tmp['Cluster'])\n",
    "    # Convert counts to percentages\n",
    "    nprct = pd.crosstab(df_tmp['Region'],df_tmp['Cluster']).apply(lambda r: r/r.sum(), axis=1)\n",
    "    nprct['Total'] = ncounts.sum(axis=1, numeric_only=True)\n",
    "    # Keep regions where more than 20 neurons are selected\n",
    "    nprct = nprct[nprct.Total >=20]\n",
    "    data_x = nprct.loc[:, nprct.columns != 'Total'].to_numpy()\n",
    "    data_y = np.array(nprct.index).reshape(-1,1)\n",
    "    # combine data\n",
    "    X = np.vstack((X, data_x))\n",
    "    y = np.vstack((y, data_y))"
   ]
  },
  {
   "cell_type": "code",
   "execution_count": 8,
   "metadata": {},
   "outputs": [],
   "source": [
    "# Divide the dataset into a training set and a testing set\n",
    "X_train, X_test, y_train, y_test = model_selection.train_test_split(X, y, train_size=0.80, test_size=0.20, random_state=42)"
   ]
  },
  {
   "cell_type": "code",
   "execution_count": 9,
   "metadata": {},
   "outputs": [
    {
     "name": "stderr",
     "output_type": "stream",
     "text": [
      "c:\\Users\\jp\\anaconda3\\envs\\ana_312\\Lib\\site-packages\\sklearn\\utils\\validation.py:1339: DataConversionWarning: A column-vector y was passed when a 1d array was expected. Please change the shape of y to (n_samples, ), for example using ravel().\n",
      "  y = column_or_1d(y, warn=True)\n",
      "c:\\Users\\jp\\anaconda3\\envs\\ana_312\\Lib\\site-packages\\sklearn\\utils\\validation.py:1339: DataConversionWarning: A column-vector y was passed when a 1d array was expected. Please change the shape of y to (n_samples, ), for example using ravel().\n",
      "  y = column_or_1d(y, warn=True)\n"
     ]
    },
    {
     "name": "stdout",
     "output_type": "stream",
     "text": [
      "Accuracy (Polynomial Kernel):  77.55\n",
      "F1 (Polynomial Kernel):  75.89\n",
      "Accuracy (RBF Kernel):  68.77\n",
      "F1 (RBF Kernel):  65.38\n"
     ]
    }
   ],
   "source": [
    "# Compare RBF Kernel and Polynomial Kernel \n",
    "rbf = svm.SVC(kernel='rbf', gamma=0.5, C=0.1).fit(X_train, y_train)\n",
    "poly = svm.SVC(kernel='poly', degree=3, C=1).fit(X_train, y_train)\n",
    "poly_pred = poly.predict(X_test)\n",
    "rbf_pred = rbf.predict(X_test)\n",
    "poly_accuracy = accuracy_score(y_test, poly_pred)\n",
    "poly_f1 = f1_score(y_test, poly_pred, average='weighted')\n",
    "print('Accuracy (Polynomial Kernel): ', \"%.2f\" % (poly_accuracy*100))\n",
    "print('F1 (Polynomial Kernel): ', \"%.2f\" % (poly_f1*100))\n",
    "rbf_accuracy = accuracy_score(y_test, rbf_pred)\n",
    "rbf_f1 = f1_score(y_test, rbf_pred, average='weighted')\n",
    "print('Accuracy (RBF Kernel): ', \"%.2f\" % (rbf_accuracy*100))\n",
    "print('F1 (RBF Kernel): ', \"%.2f\" % (rbf_f1*100))"
   ]
  },
  {
   "cell_type": "markdown",
   "metadata": {},
   "source": [
    "Normalized confusion matrix evaluating the performance of the SVM classifier with polynomial kernel"
   ]
  },
  {
   "cell_type": "code",
   "execution_count": 10,
   "metadata": {},
   "outputs": [
    {
     "name": "stdout",
     "output_type": "stream",
     "text": [
      "Confusion Matrix:\n",
      "[[ 29   1   0   0   0 161   0  11   1   0   0]\n",
      " [  0 166   0   0  22   0   0   1   0   0   0]\n",
      " [  0   0 198   0   0   0   0   0   0   0   1]\n",
      " [  0   0   0 148   7   0  36   0   0  23   0]\n",
      " [  0  36   0   4 134   0   0   1   0   0   0]\n",
      " [ 21   0   0   0   0 167   0   5   2   0   0]\n",
      " [  0   0   0  17   0   0 174   0   0   0   0]\n",
      " [  2   1   0   0   0  11   0 198   0   0   0]\n",
      " [  0   0   5   0   0   1   0   0 160   0  34]\n",
      " [  0   0   0  10   0   0   1   0   0 205   0]\n",
      " [  0   0  15   0   0   0   0   0  64   0 127]]\n",
      "\n",
      "Labels:\n",
      "['01_V1' '02_V2' '03_V4' '05_PF' '06_PFG' '07_PE' '09_S2' '11_M1'\n",
      " '12_PMDc' '13_PMVc' '21_PFC']\n"
     ]
    }
   ],
   "source": [
    "# Choose the one with the higher classification accuracy: polynomial kernel \n",
    "# Get the confusion matrix\n",
    "cf_matrix = confusion_matrix(y_test, poly_pred, labels=np.unique(y))\n",
    "labels = np.unique(y)\n",
    "# Print confusion matrix with labels\n",
    "print(\"Confusion Matrix:\")\n",
    "print(cf_matrix)\n",
    "\n",
    "# Print labels for interpretation\n",
    "print(\"\\nLabels:\")\n",
    "print(labels)"
   ]
  },
  {
   "cell_type": "code",
   "execution_count": 11,
   "metadata": {},
   "outputs": [
    {
     "data": {
      "image/png": "[encoded data removed]",
      "text/plain": [
       "<Figure size 400x300 with 2 Axes>"
      ]
     },
     "metadata": {},
     "output_type": "display_data"
    },
    {
     "data": {
      "text/plain": [
       "<Figure size 640x480 with 0 Axes>"
      ]
     },
     "metadata": {},
     "output_type": "display_data"
    }
   ],
   "source": [
    "# Normalize the confusion matrix by dividing by row sums\n",
    "cm_normalized = cf_matrix.astype('float') / cf_matrix.sum(axis=1)[:, np.newaxis]\n",
    "\n",
    "# Plot normalized confusion matrix\n",
    "plt.figure(figsize=(4, 3))\n",
    "sns.heatmap(cm_normalized, annot=True, fmt='.2f', cmap='Blues', xticklabels=labels, yticklabels=labels, annot_kws={\"size\": 5})\n",
    "plt.xlabel('Predicted', fontsize=6)\n",
    "plt.ylabel('True', fontsize=6)\n",
    "plt.tick_params(axis='both', labelsize=5)\n",
    "plt.title('Normalized Confusion Matrix', fontsize=7)\n",
    "plt.savefig(os.path.join(savedir,f'hierarchical_decode_region_confusion_matrix_ncluster{n_clusters}.pdf'), format=\"pdf\", bbox_inches=\"tight\")\n",
    "plt.savefig(os.path.join(savedir,f'hierarchical_decode_region_confusion_matrix_ncluster{n_clusters}.png'))\n",
    "plt.show()\n",
    "plt.clf()"
   ]
  },
  {
   "cell_type": "code",
   "execution_count": null,
   "metadata": {},
   "outputs": [],
   "source": []
  }
 ],
 "metadata": {
  "kernelspec": {
   "display_name": "ana_312",
   "language": "python",
   "name": "python3"
  },
  "language_info": {
   "codemirror_mode": {
    "name": "ipython",
    "version": 3
   },
   "file_extension": ".py",
   "mimetype": "text/x-python",
   "name": "python",
   "nbconvert_exporter": "python",
   "pygments_lexer": "ipython3",
   "version": "3.12.7"
  },
  "orig_nbformat": 4
 },
 "nbformat": 4,
 "nbformat_minor": 2
}
