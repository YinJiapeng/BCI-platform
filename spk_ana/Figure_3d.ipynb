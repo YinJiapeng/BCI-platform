{
 "cells": [
  {
   "cell_type": "markdown",
   "metadata": {},
   "source": [
    "#### Plot cluster FR\n",
    "This notebook is used to generate Figure 3d. It plots the normalized average firing rate (Min-Max Normalization) for each cluster during different behavioral epochs."
   ]
  },
  {
   "cell_type": "code",
   "execution_count": 1,
   "metadata": {},
   "outputs": [
    {
     "name": "stderr",
     "output_type": "stream",
     "text": [
      "c:\\Users\\jp\\anaconda3\\envs\\ana_312\\Lib\\site-packages\\sklearn\\utils\\_param_validation.py:11: UserWarning: A NumPy version >=1.23.5 and <2.3.0 is required for this version of SciPy (detected version 2.3.0)\n",
      "  from scipy.sparse import csr_matrix, issparse\n"
     ]
    }
   ],
   "source": [
    "import os, glob\n",
    "import numpy as np\n",
    "import pandas as pd\n",
    "import matplotlib as mpl\n",
    "import matplotlib.pyplot as plt\n",
    "import matplotlib.colors as mcolors\n",
    "from sklearn import preprocessing as p\n",
    "%matplotlib inline\n",
    "import seaborn as sns\n",
    "from scipy.ndimage import gaussian_filter1d\n",
    "from scipy.stats import sem\n",
    "\n",
    "from matplotlib.gridspec import SubplotSpec\n",
    "\n",
    "%matplotlib inline\n",
    "mpl.rcParams['pdf.fonttype'] = 42\n",
    "mpl.rcParams['ps.fonttype'] = 42\n",
    "mpl.rcParams['svg.fonttype'] = 'none'\n",
    "\n",
    "def create_subtitle(fig: plt.Figure, grid: SubplotSpec, title: str):\n",
    "    \"Sign sets of subplots with title\"\n",
    "    row = fig.add_subplot(grid)\n",
    "    # the '\\n' is important\n",
    "    row.set_title(f'{title}\\n', fontweight='semibold')\n",
    "    # hide subplot\n",
    "    row.set_frame_on(False)\n",
    "    row.axis('off')"
   ]
  },
  {
   "cell_type": "code",
   "execution_count": 2,
   "metadata": {},
   "outputs": [],
   "source": [
    "bin_size = 500\n",
    "opt_norm = True\n",
    "opt_fr_thres = 5\n",
    "monkey = 'VM20_VM23'\n",
    "nLimit = 70\n",
    "rnd_seed = 42\n",
    "n_clusters = 3\n",
    "plot_bin_size = 500\n",
    "opt_norm = True\n",
    "t_before = -2000\n",
    "t_after = 2000\n",
    "bins = np.arange(t_before, t_after + 1, plot_bin_size)\n",
    "\n",
    "# Replace path with your data path:\n",
    "pn_root = r\"\\\\NJJK-NAS\\visual\\66_paper\\MANUSCRIPT\\20250610-v6-submit\\figShare_upload\\DATA\"\n",
    "\n",
    "homedir = glob.glob(os.path.join(pn_root, fr'04_result_{bin_size}ms\\b3_task_raster\\{monkey}'), recursive=True)[0]\n",
    "brain_region_list = sorted(next(os.walk(homedir))[1])"
   ]
  },
  {
   "cell_type": "code",
   "execution_count": 3,
   "metadata": {},
   "outputs": [],
   "source": [
    "# Find brain regions less than nLimit\n",
    "rm_list = []\n",
    "for reg in brain_region_list:\n",
    "    channel_list = sorted(glob.glob(os.path.join(homedir,reg,'*.csv')))\n",
    "    if len(channel_list) < nLimit:\n",
    "        rm_list.append(reg)"
   ]
  },
  {
   "cell_type": "code",
   "execution_count": 4,
   "metadata": {},
   "outputs": [],
   "source": [
    "# remove regions\n",
    "brain_region_list = list(filter(lambda a: a not in rm_list, brain_region_list))\n",
    "\n",
    "if opt_norm:\n",
    "    savedir = os.path.join(homedir.replace(f'04_result_{plot_bin_size}ms', '05_plots'),f'NumOver{nLimit}')\n",
    "os.makedirs(savedir, exist_ok=True)\n",
    "\n",
    "# load umap clustering label list\n",
    "if opt_norm:\n",
    "    label_list = pd.read_csv(os.path.join(homedir,f'hierarchical_ClusterLabel_{monkey}_{bin_size}ms_normalized_seed{rnd_seed}_ncluster{n_clusters}_numOver{nLimit}.csv'))\n",
    "else:\n",
    "    label_list = pd.read_csv(os.path.join(homedir,f'hierarchical_ClusterLabel_{monkey}_{bin_size}ms_seed{rnd_seed}_ncluster{n_clusters}_numOver{nLimit}.csv'))"
   ]
  },
  {
   "cell_type": "code",
   "execution_count": 5,
   "metadata": {},
   "outputs": [
    {
     "data": {
      "text/html": [
       "<div>\n",
       "<style scoped>\n",
       "    .dataframe tbody tr th:only-of-type {\n",
       "        vertical-align: middle;\n",
       "    }\n",
       "\n",
       "    .dataframe tbody tr th {\n",
       "        vertical-align: top;\n",
       "    }\n",
       "\n",
       "    .dataframe thead th {\n",
       "        text-align: right;\n",
       "    }\n",
       "</style>\n",
       "<table border=\"1\" class=\"dataframe\">\n",
       "  <thead>\n",
       "    <tr style=\"text-align: right;\">\n",
       "      <th></th>\n",
       "      <th>Cluster</th>\n",
       "      <th>Region</th>\n",
       "    </tr>\n",
       "  </thead>\n",
       "  <tbody>\n",
       "    <tr>\n",
       "      <th>0</th>\n",
       "      <td>1</td>\n",
       "      <td>01_V1</td>\n",
       "    </tr>\n",
       "    <tr>\n",
       "      <th>1</th>\n",
       "      <td>2</td>\n",
       "      <td>01_V1</td>\n",
       "    </tr>\n",
       "    <tr>\n",
       "      <th>2</th>\n",
       "      <td>2</td>\n",
       "      <td>01_V1</td>\n",
       "    </tr>\n",
       "    <tr>\n",
       "      <th>3</th>\n",
       "      <td>3</td>\n",
       "      <td>01_V1</td>\n",
       "    </tr>\n",
       "    <tr>\n",
       "      <th>4</th>\n",
       "      <td>3</td>\n",
       "      <td>01_V1</td>\n",
       "    </tr>\n",
       "  </tbody>\n",
       "</table>\n",
       "</div>"
      ],
      "text/plain": [
       "   Cluster Region\n",
       "0        1  01_V1\n",
       "1        2  01_V1\n",
       "2        2  01_V1\n",
       "3        3  01_V1\n",
       "4        3  01_V1"
      ]
     },
     "execution_count": 5,
     "metadata": {},
     "output_type": "execute_result"
    }
   ],
   "source": [
    "label_list.head(5)"
   ]
  },
  {
   "cell_type": "code",
   "execution_count": 6,
   "metadata": {},
   "outputs": [],
   "source": [
    "events = {\n",
    "    't_reach_start_seg': 't_reach_start',\n",
    "    't_touch_fruit_seg': 't_touch_fruit',\n",
    "    't_touch_mouth_seg': 't_touch_mouth',\n",
    "}"
   ]
  },
  {
   "cell_type": "code",
   "execution_count": 7,
   "metadata": {},
   "outputs": [],
   "source": [
    "all_psths = {event_name: [] for event_name in events.keys()}\n",
    "for event_name, event_time_col in events.items():\n",
    "    # loop through each brain region\n",
    "    for reg in brain_region_list:\n",
    "        channel_list = sorted(glob.glob(os.path.join(homedir,reg,'*.csv')))\n",
    "        onereg = pd.DataFrame()\n",
    "        for ch_path in channel_list:\n",
    "            # load 500ms bin FR to do analysis\n",
    "            df_psth = pd.read_csv(ch_path)\n",
    "            # use smoothed 50ms bin FR to do quality control\n",
    "            df_psth_qc = pd.read_csv(ch_path.replace(f'04_result_{bin_size}ms', '04_result_50ms'))\n",
    "            s_smoothed = pd.concat([df_psth_qc['t_reach_start_seg_smoothed'], df_psth_qc['t_touch_fruit_seg_smoothed'], df_psth_qc['t_touch_mouth_seg_smoothed']], axis=0, ignore_index=True)\n",
    "\n",
    "            if any(s_smoothed >= opt_fr_thres): # if at any point during the three event epochs, the FR for this channel is greater than opt_fr_thres, keep the channel\n",
    "                all_psths[event_name].append(df_psth[event_name].values)\n",
    "\n",
    "    all_psths[event_name] = np.array(all_psths[event_name])"
   ]
  },
  {
   "cell_type": "code",
   "execution_count": 8,
   "metadata": {},
   "outputs": [
    {
     "name": "stdout",
     "output_type": "stream",
     "text": [
      "(2031, 24)\n"
     ]
    }
   ],
   "source": [
    "# rescale data\n",
    "for i, event in enumerate(list(events.keys())):\n",
    "    if i == 0:\n",
    "        combined_data = all_psths[event]\n",
    "    else:\n",
    "        combined_data = np.hstack((combined_data, all_psths[event]))\n",
    "\n",
    "min_max_scaler = p.MinMaxScaler()\n",
    "normalized_combined_data = np.zeros(combined_data.shape)\n",
    "# rescale each unit \n",
    "for row in range(combined_data.shape[0]):\n",
    "    dd = min_max_scaler.fit_transform(combined_data[row,:].reshape(-1,1))\n",
    "    normalized_combined_data[row,:] = dd.squeeze()\n",
    "\n",
    "print(normalized_combined_data.shape)\n",
    "# re-organize normalized data to dictionary format\n",
    "split_data = np.hsplit(normalized_combined_data, len(events.keys()))\n",
    "normalized_all_psths = {event_name: [] for event_name in events.keys()}\n",
    "for i, event in enumerate(list(events.keys())):\n",
    "    normalized_all_psths[event] = split_data[i]"
   ]
  },
  {
   "cell_type": "code",
   "execution_count": 9,
   "metadata": {},
   "outputs": [
    {
     "name": "stdout",
     "output_type": "stream",
     "text": [
      "Cluster #1\n",
      "Cluster #2\n",
      "Cluster #3\n"
     ]
    },
    {
     "data": {
      "image/png": "[encoded data removed]",
      "text/plain": [
       "<Figure size 472.441x393.701 with 9 Axes>"
      ]
     },
     "metadata": {},
     "output_type": "display_data"
    },
    {
     "data": {
      "text/plain": [
       "<Figure size 640x480 with 0 Axes>"
      ]
     },
     "metadata": {},
     "output_type": "display_data"
    }
   ],
   "source": [
    "# define colors\n",
    "if n_clusters == 2:\n",
    "    hex_colors = ['#5494CE', '#F9CC52']\n",
    "elif n_clusters == 3:\n",
    "    hex_colors = ['#5494CE', '#FF8283', '#F9CC52']\n",
    "elif n_clusters == 4:\n",
    "    hex_colors = ['#5494CE', '#FF8283', '#0D898A', '#F9CC52']\n",
    "elif n_clusters == 6:\n",
    "    hex_colors = ['#f57c6e', '#f2b56f', '#84c3b7', '#71b7ed', '#b8aeeb', '#f2a7da']\n",
    "\n",
    "# convert inches to centimeters\n",
    "cm = 1/2.54\n",
    "time = bins[:-1] + (bins[1] - bins[0]) / 2\n",
    "num_events = len(events.keys())\n",
    "fig, axes = plt.subplots(n_clusters, num_events, figsize=(12*cm, 10*cm))\n",
    "grid = plt.GridSpec(n_clusters, num_events)\n",
    "\n",
    "for cl in range(n_clusters):\n",
    "    print(f'Cluster #{cl+1}')\n",
    "    idx = label_list.index[label_list['Cluster']==cl+1].tolist()\n",
    "    for i, event in enumerate(list(events.keys())):\n",
    "        # 绘制反应曲线\n",
    "        ax_psth = axes[cl, i]\n",
    "        mean_rates = np.mean(normalized_all_psths[event][idx,:], axis=0)\n",
    "        sem_rates = sem(normalized_all_psths[event][idx,:], axis=0)\n",
    "        rates = gaussian_filter1d(mean_rates, sigma=1)\n",
    "        error = gaussian_filter1d(sem_rates, sigma=1)\n",
    "        ax_psth.plot(time, rates, label=event, color=hex_colors[cl], linewidth=1)\n",
    "        ax_psth.fill_between(time, rates - error, rates + error, color=hex_colors[cl], alpha=0.2)\n",
    "        ax_psth.axvline(x=0, color='black', linestyle='--', linewidth=1, label='Event Time')\n",
    "        ax_psth.set_xlim([t_before, t_after])\n",
    "        ax_psth.set_ylim([0, 1])\n",
    "        ax_psth.tick_params(axis='x', labelsize=5)\n",
    "        ax_psth.tick_params(axis='y', labelsize=5)\n",
    "        axes[0][i].set_title(f'{event} PSTH', fontsize=5)\n",
    "        axes[n_clusters-1][i].set_xlabel('Time (ms)', fontsize=6)\n",
    "        axes[cl][0].set_ylabel('Firing Rate (Hz)', fontsize=6)\n",
    "\n",
    "plt.savefig(os.path.join(savedir,f'norFR_{plot_bin_size}ms_seed{rnd_seed}_ncluster{n_clusters}.png'))\n",
    "plt.savefig(os.path.join(savedir,f'norFR_{plot_bin_size}ms_seed{rnd_seed}_ncluster{n_clusters}.pdf'), transparent=True, bbox_inches=\"tight\")\n",
    "plt.show()\n",
    "plt.clf()"
   ]
  },
  {
   "cell_type": "code",
   "execution_count": null,
   "metadata": {},
   "outputs": [],
   "source": []
  }
 ],
 "metadata": {
  "kernelspec": {
   "display_name": "ana_312",
   "language": "python",
   "name": "python3"
  },
  "language_info": {
   "codemirror_mode": {
    "name": "ipython",
    "version": 3
   },
   "file_extension": ".py",
   "mimetype": "text/x-python",
   "name": "python",
   "nbconvert_exporter": "python",
   "pygments_lexer": "ipython3",
   "version": "3.12.7"
  },
  "orig_nbformat": 4
 },
 "nbformat": 4,
 "nbformat_minor": 2
}
